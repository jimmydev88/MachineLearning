{
  "nbformat": 4,
  "nbformat_minor": 0,
  "metadata": {
    "colab": {
      "name": "los_mtmh.ipynb",
      "provenance": [],
      "collapsed_sections": [],
      "toc_visible": true,
      "include_colab_link": true
    },
    "kernelspec": {
      "name": "python3",
      "display_name": "Python 3"
    }
  },
  "cells": [
    {
      "cell_type": "markdown",
      "metadata": {
        "id": "view-in-github",
        "colab_type": "text"
      },
      "source": [
        "<a href=\"https://colab.research.google.com/github/jimmydev88/MachineLearning/blob/main/los_mtmh.ipynb\" target=\"_parent\"><img src=\"https://colab.research.google.com/assets/colab-badge.svg\" alt=\"Open In Colab\"/></a>"
      ]
    },
    {
      "cell_type": "markdown",
      "metadata": {
        "id": "r3cas2_1T98w"
      },
      "source": [
        "# Decision Tree Regression"
      ]
    },
    {
      "cell_type": "markdown",
      "metadata": {
        "id": "IODliia6U1xO"
      },
      "source": [
        "## Importing the libraries"
      ]
    },
    {
      "cell_type": "code",
      "metadata": {
        "id": "y98nA5UdU6Hf"
      },
      "source": [
        "import numpy as np\n",
        "import matplotlib.pyplot as plt\n",
        "import pandas as pd\n",
        "from matplotlib import pyplot\n",
        "from sklearn.model_selection import train_test_split\n",
        "from sklearn.feature_selection import SelectKBest\n",
        "from sklearn.feature_selection import f_regression\n",
        "from matplotlib import pyplot\n",
        "from sklearn.preprocessing import LabelEncoder\n",
        "from sklearn.model_selection import train_test_split\n",
        "from sklearn.preprocessing import PolynomialFeatures\n",
        "from sklearn.linear_model import LinearRegression\n",
        "from sklearn.feature_selection import f_regression\n",
        "from sklearn.ensemble import RandomForestRegressor\n",
        "import seaborn as sns\n",
        "sns.set()"
      ],
      "execution_count": 120,
      "outputs": []
    },
    {
      "cell_type": "markdown",
      "metadata": {
        "id": "jpjZ43YlU8eI"
      },
      "source": [
        "## Importing the dataset"
      ]
    },
    {
      "cell_type": "code",
      "metadata": {
        "id": "pLVaXoYVU_Uy",
        "colab": {
          "base_uri": "https://localhost:8080/",
          "height": 419
        },
        "outputId": "4a78f94f-f229-49f4-ba48-84c932749296"
      },
      "source": [
        "dataset = pd.read_csv('datamtmh1.csv')\n",
        "dataset"
      ],
      "execution_count": 121,
      "outputs": [
        {
          "output_type": "execute_result",
          "data": {
            "text/html": [
              "<div>\n",
              "<style scoped>\n",
              "    .dataframe tbody tr th:only-of-type {\n",
              "        vertical-align: middle;\n",
              "    }\n",
              "\n",
              "    .dataframe tbody tr th {\n",
              "        vertical-align: top;\n",
              "    }\n",
              "\n",
              "    .dataframe thead th {\n",
              "        text-align: right;\n",
              "    }\n",
              "</style>\n",
              "<table border=\"1\" class=\"dataframe\">\n",
              "  <thead>\n",
              "    <tr style=\"text-align: right;\">\n",
              "      <th></th>\n",
              "      <th>Umur</th>\n",
              "      <th>Class</th>\n",
              "      <th>TOTALRS</th>\n",
              "      <th>DIAGNOSA1</th>\n",
              "      <th>DIAGNOSA2</th>\n",
              "      <th>LOS</th>\n",
              "    </tr>\n",
              "  </thead>\n",
              "  <tbody>\n",
              "    <tr>\n",
              "      <th>0</th>\n",
              "      <td>59.0</td>\n",
              "      <td>III</td>\n",
              "      <td>42116633.79</td>\n",
              "      <td>I25.1</td>\n",
              "      <td>0</td>\n",
              "      <td>3</td>\n",
              "    </tr>\n",
              "    <tr>\n",
              "      <th>1</th>\n",
              "      <td>55.0</td>\n",
              "      <td>II</td>\n",
              "      <td>49029728.86</td>\n",
              "      <td>I25.1</td>\n",
              "      <td>0</td>\n",
              "      <td>3</td>\n",
              "    </tr>\n",
              "    <tr>\n",
              "      <th>2</th>\n",
              "      <td>62.0</td>\n",
              "      <td>II</td>\n",
              "      <td>58691716.79</td>\n",
              "      <td>I21.9</td>\n",
              "      <td>E11.9</td>\n",
              "      <td>2</td>\n",
              "    </tr>\n",
              "    <tr>\n",
              "      <th>3</th>\n",
              "      <td>60.0</td>\n",
              "      <td>I</td>\n",
              "      <td>56115107.25</td>\n",
              "      <td>I21.1</td>\n",
              "      <td>0</td>\n",
              "      <td>3</td>\n",
              "    </tr>\n",
              "    <tr>\n",
              "      <th>4</th>\n",
              "      <td>59.0</td>\n",
              "      <td>I</td>\n",
              "      <td>50127856.80</td>\n",
              "      <td>I25.0</td>\n",
              "      <td>0</td>\n",
              "      <td>2</td>\n",
              "    </tr>\n",
              "    <tr>\n",
              "      <th>...</th>\n",
              "      <td>...</td>\n",
              "      <td>...</td>\n",
              "      <td>...</td>\n",
              "      <td>...</td>\n",
              "      <td>...</td>\n",
              "      <td>...</td>\n",
              "    </tr>\n",
              "    <tr>\n",
              "      <th>505</th>\n",
              "      <td>NaN</td>\n",
              "      <td>I</td>\n",
              "      <td>55204688.01</td>\n",
              "      <td>I20.0</td>\n",
              "      <td>I10</td>\n",
              "      <td>3</td>\n",
              "    </tr>\n",
              "    <tr>\n",
              "      <th>506</th>\n",
              "      <td>NaN</td>\n",
              "      <td>I</td>\n",
              "      <td>83083621.98</td>\n",
              "      <td>I21.1</td>\n",
              "      <td>0</td>\n",
              "      <td>4</td>\n",
              "    </tr>\n",
              "    <tr>\n",
              "      <th>507</th>\n",
              "      <td>NaN</td>\n",
              "      <td>III</td>\n",
              "      <td>69933426.96</td>\n",
              "      <td>I21.0</td>\n",
              "      <td>E11.9</td>\n",
              "      <td>14</td>\n",
              "    </tr>\n",
              "    <tr>\n",
              "      <th>508</th>\n",
              "      <td>NaN</td>\n",
              "      <td>I</td>\n",
              "      <td>63898232.46</td>\n",
              "      <td>I21.9</td>\n",
              "      <td>0</td>\n",
              "      <td>4</td>\n",
              "    </tr>\n",
              "    <tr>\n",
              "      <th>509</th>\n",
              "      <td>NaN</td>\n",
              "      <td>III</td>\n",
              "      <td>45801382.36</td>\n",
              "      <td>I21.9</td>\n",
              "      <td>0</td>\n",
              "      <td>2</td>\n",
              "    </tr>\n",
              "  </tbody>\n",
              "</table>\n",
              "<p>510 rows × 6 columns</p>\n",
              "</div>"
            ],
            "text/plain": [
              "     Umur Class      TOTALRS DIAGNOSA1 DIAGNOSA2  LOS\n",
              "0    59.0   III  42116633.79     I25.1         0    3\n",
              "1    55.0    II  49029728.86     I25.1         0    3\n",
              "2    62.0    II  58691716.79     I21.9     E11.9    2\n",
              "3    60.0     I  56115107.25     I21.1         0    3\n",
              "4    59.0     I  50127856.80     I25.0         0    2\n",
              "..    ...   ...          ...       ...       ...  ...\n",
              "505   NaN     I  55204688.01     I20.0       I10    3\n",
              "506   NaN     I  83083621.98     I21.1         0    4\n",
              "507   NaN   III  69933426.96     I21.0     E11.9   14\n",
              "508   NaN     I  63898232.46     I21.9         0    4\n",
              "509   NaN   III  45801382.36     I21.9         0    2\n",
              "\n",
              "[510 rows x 6 columns]"
            ]
          },
          "metadata": {
            "tags": []
          },
          "execution_count": 121
        }
      ]
    },
    {
      "cell_type": "markdown",
      "metadata": {
        "id": "3K7XImNAZ-IT"
      },
      "source": [
        "##Missing Values"
      ]
    },
    {
      "cell_type": "code",
      "metadata": {
        "id": "D8x-5WhdKKuf"
      },
      "source": [
        "dataset['Umur'].fillna((dataset['Umur'].mean()), inplace=True)"
      ],
      "execution_count": 122,
      "outputs": []
    },
    {
      "cell_type": "code",
      "metadata": {
        "colab": {
          "base_uri": "https://localhost:8080/"
        },
        "id": "9SawQNWwmJQJ",
        "outputId": "aa807930-2afa-4a2e-e88b-88f20611b887"
      },
      "source": [
        "dataset.info()"
      ],
      "execution_count": 123,
      "outputs": [
        {
          "output_type": "stream",
          "text": [
            "<class 'pandas.core.frame.DataFrame'>\n",
            "RangeIndex: 510 entries, 0 to 509\n",
            "Data columns (total 6 columns):\n",
            " #   Column     Non-Null Count  Dtype  \n",
            "---  ------     --------------  -----  \n",
            " 0   Umur       510 non-null    float64\n",
            " 1   Class      510 non-null    object \n",
            " 2   TOTALRS    510 non-null    float64\n",
            " 3   DIAGNOSA1  510 non-null    object \n",
            " 4   DIAGNOSA2  510 non-null    object \n",
            " 5   LOS        510 non-null    int64  \n",
            "dtypes: float64(2), int64(1), object(3)\n",
            "memory usage: 24.0+ KB\n"
          ],
          "name": "stdout"
        }
      ]
    },
    {
      "cell_type": "code",
      "metadata": {
        "id": "s-9qFzIZKbeF",
        "colab": {
          "base_uri": "https://localhost:8080/",
          "height": 419
        },
        "outputId": "c8455a4e-305a-4620-d331-90d27b779761"
      },
      "source": [
        "df = dataset.copy()\r\n",
        "df.describe(include='all')\r\n",
        "df[df['LOS']<11]"
      ],
      "execution_count": 124,
      "outputs": [
        {
          "output_type": "execute_result",
          "data": {
            "text/html": [
              "<div>\n",
              "<style scoped>\n",
              "    .dataframe tbody tr th:only-of-type {\n",
              "        vertical-align: middle;\n",
              "    }\n",
              "\n",
              "    .dataframe tbody tr th {\n",
              "        vertical-align: top;\n",
              "    }\n",
              "\n",
              "    .dataframe thead th {\n",
              "        text-align: right;\n",
              "    }\n",
              "</style>\n",
              "<table border=\"1\" class=\"dataframe\">\n",
              "  <thead>\n",
              "    <tr style=\"text-align: right;\">\n",
              "      <th></th>\n",
              "      <th>Umur</th>\n",
              "      <th>Class</th>\n",
              "      <th>TOTALRS</th>\n",
              "      <th>DIAGNOSA1</th>\n",
              "      <th>DIAGNOSA2</th>\n",
              "      <th>LOS</th>\n",
              "    </tr>\n",
              "  </thead>\n",
              "  <tbody>\n",
              "    <tr>\n",
              "      <th>0</th>\n",
              "      <td>59.000000</td>\n",
              "      <td>III</td>\n",
              "      <td>42116633.79</td>\n",
              "      <td>I25.1</td>\n",
              "      <td>0</td>\n",
              "      <td>3</td>\n",
              "    </tr>\n",
              "    <tr>\n",
              "      <th>1</th>\n",
              "      <td>55.000000</td>\n",
              "      <td>II</td>\n",
              "      <td>49029728.86</td>\n",
              "      <td>I25.1</td>\n",
              "      <td>0</td>\n",
              "      <td>3</td>\n",
              "    </tr>\n",
              "    <tr>\n",
              "      <th>2</th>\n",
              "      <td>62.000000</td>\n",
              "      <td>II</td>\n",
              "      <td>58691716.79</td>\n",
              "      <td>I21.9</td>\n",
              "      <td>E11.9</td>\n",
              "      <td>2</td>\n",
              "    </tr>\n",
              "    <tr>\n",
              "      <th>3</th>\n",
              "      <td>60.000000</td>\n",
              "      <td>I</td>\n",
              "      <td>56115107.25</td>\n",
              "      <td>I21.1</td>\n",
              "      <td>0</td>\n",
              "      <td>3</td>\n",
              "    </tr>\n",
              "    <tr>\n",
              "      <th>4</th>\n",
              "      <td>59.000000</td>\n",
              "      <td>I</td>\n",
              "      <td>50127856.80</td>\n",
              "      <td>I25.0</td>\n",
              "      <td>0</td>\n",
              "      <td>2</td>\n",
              "    </tr>\n",
              "    <tr>\n",
              "      <th>...</th>\n",
              "      <td>...</td>\n",
              "      <td>...</td>\n",
              "      <td>...</td>\n",
              "      <td>...</td>\n",
              "      <td>...</td>\n",
              "      <td>...</td>\n",
              "    </tr>\n",
              "    <tr>\n",
              "      <th>504</th>\n",
              "      <td>56.027254</td>\n",
              "      <td>I</td>\n",
              "      <td>66483133.71</td>\n",
              "      <td>I21.9</td>\n",
              "      <td>0</td>\n",
              "      <td>5</td>\n",
              "    </tr>\n",
              "    <tr>\n",
              "      <th>505</th>\n",
              "      <td>56.027254</td>\n",
              "      <td>I</td>\n",
              "      <td>55204688.01</td>\n",
              "      <td>I20.0</td>\n",
              "      <td>I10</td>\n",
              "      <td>3</td>\n",
              "    </tr>\n",
              "    <tr>\n",
              "      <th>506</th>\n",
              "      <td>56.027254</td>\n",
              "      <td>I</td>\n",
              "      <td>83083621.98</td>\n",
              "      <td>I21.1</td>\n",
              "      <td>0</td>\n",
              "      <td>4</td>\n",
              "    </tr>\n",
              "    <tr>\n",
              "      <th>508</th>\n",
              "      <td>56.027254</td>\n",
              "      <td>I</td>\n",
              "      <td>63898232.46</td>\n",
              "      <td>I21.9</td>\n",
              "      <td>0</td>\n",
              "      <td>4</td>\n",
              "    </tr>\n",
              "    <tr>\n",
              "      <th>509</th>\n",
              "      <td>56.027254</td>\n",
              "      <td>III</td>\n",
              "      <td>45801382.36</td>\n",
              "      <td>I21.9</td>\n",
              "      <td>0</td>\n",
              "      <td>2</td>\n",
              "    </tr>\n",
              "  </tbody>\n",
              "</table>\n",
              "<p>508 rows × 6 columns</p>\n",
              "</div>"
            ],
            "text/plain": [
              "          Umur Class      TOTALRS DIAGNOSA1 DIAGNOSA2  LOS\n",
              "0    59.000000   III  42116633.79     I25.1         0    3\n",
              "1    55.000000    II  49029728.86     I25.1         0    3\n",
              "2    62.000000    II  58691716.79     I21.9     E11.9    2\n",
              "3    60.000000     I  56115107.25     I21.1         0    3\n",
              "4    59.000000     I  50127856.80     I25.0         0    2\n",
              "..         ...   ...          ...       ...       ...  ...\n",
              "504  56.027254     I  66483133.71     I21.9         0    5\n",
              "505  56.027254     I  55204688.01     I20.0       I10    3\n",
              "506  56.027254     I  83083621.98     I21.1         0    4\n",
              "508  56.027254     I  63898232.46     I21.9         0    4\n",
              "509  56.027254   III  45801382.36     I21.9         0    2\n",
              "\n",
              "[508 rows x 6 columns]"
            ]
          },
          "metadata": {
            "tags": []
          },
          "execution_count": 124
        }
      ]
    },
    {
      "cell_type": "markdown",
      "metadata": {
        "id": "2psfK0Vr-gu_"
      },
      "source": [
        "##Remove Outlier"
      ]
    },
    {
      "cell_type": "code",
      "metadata": {
        "colab": {
          "base_uri": "https://localhost:8080/",
          "height": 390
        },
        "id": "q8nPD38N-fy7",
        "outputId": "174ce8e9-ae73-493b-fd1b-51aa3182705e"
      },
      "source": [
        "df_wo_outlier = df[df['LOS'] < 11]\r\n",
        "df_wo_outlier.describe(include='all')"
      ],
      "execution_count": 125,
      "outputs": [
        {
          "output_type": "execute_result",
          "data": {
            "text/html": [
              "<div>\n",
              "<style scoped>\n",
              "    .dataframe tbody tr th:only-of-type {\n",
              "        vertical-align: middle;\n",
              "    }\n",
              "\n",
              "    .dataframe tbody tr th {\n",
              "        vertical-align: top;\n",
              "    }\n",
              "\n",
              "    .dataframe thead th {\n",
              "        text-align: right;\n",
              "    }\n",
              "</style>\n",
              "<table border=\"1\" class=\"dataframe\">\n",
              "  <thead>\n",
              "    <tr style=\"text-align: right;\">\n",
              "      <th></th>\n",
              "      <th>Umur</th>\n",
              "      <th>Class</th>\n",
              "      <th>TOTALRS</th>\n",
              "      <th>DIAGNOSA1</th>\n",
              "      <th>DIAGNOSA2</th>\n",
              "      <th>LOS</th>\n",
              "    </tr>\n",
              "  </thead>\n",
              "  <tbody>\n",
              "    <tr>\n",
              "      <th>count</th>\n",
              "      <td>508.000000</td>\n",
              "      <td>508</td>\n",
              "      <td>5.080000e+02</td>\n",
              "      <td>508</td>\n",
              "      <td>508</td>\n",
              "      <td>508.000000</td>\n",
              "    </tr>\n",
              "    <tr>\n",
              "      <th>unique</th>\n",
              "      <td>NaN</td>\n",
              "      <td>3</td>\n",
              "      <td>NaN</td>\n",
              "      <td>12</td>\n",
              "      <td>9</td>\n",
              "      <td>NaN</td>\n",
              "    </tr>\n",
              "    <tr>\n",
              "      <th>top</th>\n",
              "      <td>NaN</td>\n",
              "      <td>I</td>\n",
              "      <td>NaN</td>\n",
              "      <td>I25.1</td>\n",
              "      <td>0</td>\n",
              "      <td>NaN</td>\n",
              "    </tr>\n",
              "    <tr>\n",
              "      <th>freq</th>\n",
              "      <td>NaN</td>\n",
              "      <td>223</td>\n",
              "      <td>NaN</td>\n",
              "      <td>121</td>\n",
              "      <td>411</td>\n",
              "      <td>NaN</td>\n",
              "    </tr>\n",
              "    <tr>\n",
              "      <th>mean</th>\n",
              "      <td>56.021402</td>\n",
              "      <td>NaN</td>\n",
              "      <td>5.711203e+07</td>\n",
              "      <td>NaN</td>\n",
              "      <td>NaN</td>\n",
              "      <td>3.793307</td>\n",
              "    </tr>\n",
              "    <tr>\n",
              "      <th>std</th>\n",
              "      <td>8.633428</td>\n",
              "      <td>NaN</td>\n",
              "      <td>1.007002e+07</td>\n",
              "      <td>NaN</td>\n",
              "      <td>NaN</td>\n",
              "      <td>1.061517</td>\n",
              "    </tr>\n",
              "    <tr>\n",
              "      <th>min</th>\n",
              "      <td>29.000000</td>\n",
              "      <td>NaN</td>\n",
              "      <td>3.972719e+07</td>\n",
              "      <td>NaN</td>\n",
              "      <td>NaN</td>\n",
              "      <td>1.000000</td>\n",
              "    </tr>\n",
              "    <tr>\n",
              "      <th>25%</th>\n",
              "      <td>50.000000</td>\n",
              "      <td>NaN</td>\n",
              "      <td>4.949981e+07</td>\n",
              "      <td>NaN</td>\n",
              "      <td>NaN</td>\n",
              "      <td>3.000000</td>\n",
              "    </tr>\n",
              "    <tr>\n",
              "      <th>50%</th>\n",
              "      <td>56.027254</td>\n",
              "      <td>NaN</td>\n",
              "      <td>5.472029e+07</td>\n",
              "      <td>NaN</td>\n",
              "      <td>NaN</td>\n",
              "      <td>4.000000</td>\n",
              "    </tr>\n",
              "    <tr>\n",
              "      <th>75%</th>\n",
              "      <td>62.000000</td>\n",
              "      <td>NaN</td>\n",
              "      <td>6.302182e+07</td>\n",
              "      <td>NaN</td>\n",
              "      <td>NaN</td>\n",
              "      <td>4.000000</td>\n",
              "    </tr>\n",
              "    <tr>\n",
              "      <th>max</th>\n",
              "      <td>80.000000</td>\n",
              "      <td>NaN</td>\n",
              "      <td>9.728026e+07</td>\n",
              "      <td>NaN</td>\n",
              "      <td>NaN</td>\n",
              "      <td>9.000000</td>\n",
              "    </tr>\n",
              "  </tbody>\n",
              "</table>\n",
              "</div>"
            ],
            "text/plain": [
              "              Umur Class       TOTALRS DIAGNOSA1 DIAGNOSA2         LOS\n",
              "count   508.000000   508  5.080000e+02       508       508  508.000000\n",
              "unique         NaN     3           NaN        12         9         NaN\n",
              "top            NaN     I           NaN     I25.1         0         NaN\n",
              "freq           NaN   223           NaN       121       411         NaN\n",
              "mean     56.021402   NaN  5.711203e+07       NaN       NaN    3.793307\n",
              "std       8.633428   NaN  1.007002e+07       NaN       NaN    1.061517\n",
              "min      29.000000   NaN  3.972719e+07       NaN       NaN    1.000000\n",
              "25%      50.000000   NaN  4.949981e+07       NaN       NaN    3.000000\n",
              "50%      56.027254   NaN  5.472029e+07       NaN       NaN    4.000000\n",
              "75%      62.000000   NaN  6.302182e+07       NaN       NaN    4.000000\n",
              "max      80.000000   NaN  9.728026e+07       NaN       NaN    9.000000"
            ]
          },
          "metadata": {
            "tags": []
          },
          "execution_count": 125
        }
      ]
    },
    {
      "cell_type": "code",
      "metadata": {
        "colab": {
          "base_uri": "https://localhost:8080/"
        },
        "id": "5JAGsUp41wOy",
        "outputId": "577338a7-2c17-4b3e-faf4-11f934f220ba"
      },
      "source": [
        "X = df_wo_outlier[['Umur']]\r\n",
        "y = df_wo_outlier['LOS']\r\n",
        "f_regression(X,y)\r\n",
        "p_values = f_regression(X,y)[1]\r\n",
        "p_values"
      ],
      "execution_count": 126,
      "outputs": [
        {
          "output_type": "execute_result",
          "data": {
            "text/plain": [
              "array([0.79])"
            ]
          },
          "metadata": {
            "tags": []
          },
          "execution_count": 126
        }
      ]
    },
    {
      "cell_type": "code",
      "metadata": {
        "id": "zXKrxZIWqixn"
      },
      "source": [
        "le = LabelEncoder()"
      ],
      "execution_count": 127,
      "outputs": []
    },
    {
      "cell_type": "code",
      "metadata": {
        "colab": {
          "base_uri": "https://localhost:8080/"
        },
        "id": "dyKNXSjlgyBu",
        "outputId": "54613f38-f9af-4c43-c104-eca3545e501e"
      },
      "source": [
        "diag1_lst = df_wo_outlier.loc[:,'DIAGNOSA1'].unique()\r\n",
        "diag1_lst.sort()\r\n",
        "diag1_dict = dict(zip(diag1_lst, range(len(diag1_lst))))\r\n",
        "df_wo_outlier.DIAGNOSA1.replace(diag1_dict, inplace=True)\r\n",
        "\r\n",
        "diag2_lst = df_wo_outlier.loc[:,'DIAGNOSA2'].unique()\r\n",
        "diag2_lst.sort()\r\n",
        "diag2_dict = dict(zip(diag2_lst, range(len(diag2_lst))))\r\n",
        "df_wo_outlier.DIAGNOSA2.replace(diag2_dict, inplace=True)\r\n",
        "\r\n",
        "class_lst = df_wo_outlier.loc[:,'Class'].unique()\r\n",
        "class_lst.sort()\r\n",
        "class_dict = dict(zip(class_lst, range(len(class_lst))))\r\n",
        "df_wo_outlier.Class.replace(class_dict, inplace=True)\r\n",
        "    "
      ],
      "execution_count": 128,
      "outputs": [
        {
          "output_type": "stream",
          "text": [
            "/usr/local/lib/python3.6/dist-packages/pandas/core/series.py:4582: SettingWithCopyWarning: \n",
            "A value is trying to be set on a copy of a slice from a DataFrame\n",
            "\n",
            "See the caveats in the documentation: https://pandas.pydata.org/pandas-docs/stable/user_guide/indexing.html#returning-a-view-versus-a-copy\n",
            "  method=method,\n"
          ],
          "name": "stderr"
        }
      ]
    },
    {
      "cell_type": "code",
      "metadata": {
        "id": "bH1FoL-AqTqM",
        "colab": {
          "base_uri": "https://localhost:8080/",
          "height": 419
        },
        "outputId": "97fbc976-ee7c-4ebb-d46d-0a0a8744d46d"
      },
      "source": [
        "df_wo_outlier"
      ],
      "execution_count": 129,
      "outputs": [
        {
          "output_type": "execute_result",
          "data": {
            "text/html": [
              "<div>\n",
              "<style scoped>\n",
              "    .dataframe tbody tr th:only-of-type {\n",
              "        vertical-align: middle;\n",
              "    }\n",
              "\n",
              "    .dataframe tbody tr th {\n",
              "        vertical-align: top;\n",
              "    }\n",
              "\n",
              "    .dataframe thead th {\n",
              "        text-align: right;\n",
              "    }\n",
              "</style>\n",
              "<table border=\"1\" class=\"dataframe\">\n",
              "  <thead>\n",
              "    <tr style=\"text-align: right;\">\n",
              "      <th></th>\n",
              "      <th>Umur</th>\n",
              "      <th>Class</th>\n",
              "      <th>TOTALRS</th>\n",
              "      <th>DIAGNOSA1</th>\n",
              "      <th>DIAGNOSA2</th>\n",
              "      <th>LOS</th>\n",
              "    </tr>\n",
              "  </thead>\n",
              "  <tbody>\n",
              "    <tr>\n",
              "      <th>0</th>\n",
              "      <td>59.000000</td>\n",
              "      <td>2</td>\n",
              "      <td>42116633.79</td>\n",
              "      <td>10</td>\n",
              "      <td>0</td>\n",
              "      <td>3</td>\n",
              "    </tr>\n",
              "    <tr>\n",
              "      <th>1</th>\n",
              "      <td>55.000000</td>\n",
              "      <td>1</td>\n",
              "      <td>49029728.86</td>\n",
              "      <td>10</td>\n",
              "      <td>0</td>\n",
              "      <td>3</td>\n",
              "    </tr>\n",
              "    <tr>\n",
              "      <th>2</th>\n",
              "      <td>62.000000</td>\n",
              "      <td>1</td>\n",
              "      <td>58691716.79</td>\n",
              "      <td>5</td>\n",
              "      <td>2</td>\n",
              "      <td>2</td>\n",
              "    </tr>\n",
              "    <tr>\n",
              "      <th>3</th>\n",
              "      <td>60.000000</td>\n",
              "      <td>0</td>\n",
              "      <td>56115107.25</td>\n",
              "      <td>3</td>\n",
              "      <td>0</td>\n",
              "      <td>3</td>\n",
              "    </tr>\n",
              "    <tr>\n",
              "      <th>4</th>\n",
              "      <td>59.000000</td>\n",
              "      <td>0</td>\n",
              "      <td>50127856.80</td>\n",
              "      <td>9</td>\n",
              "      <td>0</td>\n",
              "      <td>2</td>\n",
              "    </tr>\n",
              "    <tr>\n",
              "      <th>...</th>\n",
              "      <td>...</td>\n",
              "      <td>...</td>\n",
              "      <td>...</td>\n",
              "      <td>...</td>\n",
              "      <td>...</td>\n",
              "      <td>...</td>\n",
              "    </tr>\n",
              "    <tr>\n",
              "      <th>504</th>\n",
              "      <td>56.027254</td>\n",
              "      <td>0</td>\n",
              "      <td>66483133.71</td>\n",
              "      <td>5</td>\n",
              "      <td>0</td>\n",
              "      <td>5</td>\n",
              "    </tr>\n",
              "    <tr>\n",
              "      <th>505</th>\n",
              "      <td>56.027254</td>\n",
              "      <td>0</td>\n",
              "      <td>55204688.01</td>\n",
              "      <td>0</td>\n",
              "      <td>3</td>\n",
              "      <td>3</td>\n",
              "    </tr>\n",
              "    <tr>\n",
              "      <th>506</th>\n",
              "      <td>56.027254</td>\n",
              "      <td>0</td>\n",
              "      <td>83083621.98</td>\n",
              "      <td>3</td>\n",
              "      <td>0</td>\n",
              "      <td>4</td>\n",
              "    </tr>\n",
              "    <tr>\n",
              "      <th>508</th>\n",
              "      <td>56.027254</td>\n",
              "      <td>0</td>\n",
              "      <td>63898232.46</td>\n",
              "      <td>5</td>\n",
              "      <td>0</td>\n",
              "      <td>4</td>\n",
              "    </tr>\n",
              "    <tr>\n",
              "      <th>509</th>\n",
              "      <td>56.027254</td>\n",
              "      <td>2</td>\n",
              "      <td>45801382.36</td>\n",
              "      <td>5</td>\n",
              "      <td>0</td>\n",
              "      <td>2</td>\n",
              "    </tr>\n",
              "  </tbody>\n",
              "</table>\n",
              "<p>508 rows × 6 columns</p>\n",
              "</div>"
            ],
            "text/plain": [
              "          Umur  Class      TOTALRS  DIAGNOSA1  DIAGNOSA2  LOS\n",
              "0    59.000000      2  42116633.79         10          0    3\n",
              "1    55.000000      1  49029728.86         10          0    3\n",
              "2    62.000000      1  58691716.79          5          2    2\n",
              "3    60.000000      0  56115107.25          3          0    3\n",
              "4    59.000000      0  50127856.80          9          0    2\n",
              "..         ...    ...          ...        ...        ...  ...\n",
              "504  56.027254      0  66483133.71          5          0    5\n",
              "505  56.027254      0  55204688.01          0          3    3\n",
              "506  56.027254      0  83083621.98          3          0    4\n",
              "508  56.027254      0  63898232.46          5          0    4\n",
              "509  56.027254      2  45801382.36          5          0    2\n",
              "\n",
              "[508 rows x 6 columns]"
            ]
          },
          "metadata": {
            "tags": []
          },
          "execution_count": 129
        }
      ]
    },
    {
      "cell_type": "code",
      "metadata": {
        "colab": {
          "base_uri": "https://localhost:8080/",
          "height": 506
        },
        "id": "cqabk6ehUSYi",
        "outputId": "e0f07f93-b850-42fd-ae07-2452ef85bbc9"
      },
      "source": [
        "plt.figure(figsize=(14, 8))\r\n",
        "corr_matrix = df_wo_outlier.corr().round(2)\r\n",
        "sns.heatmap(data=corr_matrix,cmap='coolwarm',annot=True)"
      ],
      "execution_count": 130,
      "outputs": [
        {
          "output_type": "execute_result",
          "data": {
            "text/plain": [
              "<matplotlib.axes._subplots.AxesSubplot at 0x7f2a95871278>"
            ]
          },
          "metadata": {
            "tags": []
          },
          "execution_count": 130
        },
        {
          "output_type": "display_data",
          "data": {
            "image/png": "[encoded data removed]",
            "text/plain": [
              "<Figure size 1008x576 with 2 Axes>"
            ]
          },
          "metadata": {
            "tags": []
          }
        }
      ]
    },
    {
      "cell_type": "code",
      "metadata": {
        "colab": {
          "base_uri": "https://localhost:8080/"
        },
        "id": "uNX0gqL6BOP9",
        "outputId": "92ca2a82-4c5c-49a6-a0d2-1d60f9cbd62b"
      },
      "source": [
        "X = df_wo_outlier.loc[:,('Umur', 'Class', 'DIAGNOSA1', 'DIAGNOSA2')]\r\n",
        "y = df_wo_outlier.loc[:,'LOS']\r\n",
        "X_train, X_test, y_train, y_test = train_test_split(X, y, test_size = 0.2, random_state = 0)\r\n",
        "regressor = RandomForestRegressor(n_estimators =740, bootstrap= True, max_features= 0.5, min_samples_leaf= 4, random_state = 0)\r\n",
        "regressor.fit(X_train, y_train)"
      ],
      "execution_count": 142,
      "outputs": [
        {
          "output_type": "execute_result",
          "data": {
            "text/plain": [
              "RandomForestRegressor(bootstrap=True, ccp_alpha=0.0, criterion='mse',\n",
              "                      max_depth=None, max_features=0.5, max_leaf_nodes=None,\n",
              "                      max_samples=None, min_impurity_decrease=0.0,\n",
              "                      min_impurity_split=None, min_samples_leaf=4,\n",
              "                      min_samples_split=2, min_weight_fraction_leaf=0.0,\n",
              "                      n_estimators=740, n_jobs=None, oob_score=False,\n",
              "                      random_state=0, verbose=0, warm_start=False)"
            ]
          },
          "metadata": {
            "tags": []
          },
          "execution_count": 142
        }
      ]
    },
    {
      "cell_type": "code",
      "metadata": {
        "colab": {
          "base_uri": "https://localhost:8080/",
          "height": 285
        },
        "id": "iiGcUQh6b8XR",
        "outputId": "9c917158-9c7b-48dc-b683-f640e7844709"
      },
      "source": [
        "def feat_importance(m,df_train):\r\n",
        "    importance = m.feature_importances_\r\n",
        "    importance = pd.DataFrame(importance,index=df_train.columns,columns=[\"Importance\"])\r\n",
        "    return importance.sort_values(by=['Importance'],ascending=False)\r\n",
        "importance = feat_importance(regressor,X_train)\r\n",
        "importance[:]\r\n",
        "importance.plot(kind='barh')"
      ],
      "execution_count": 133,
      "outputs": [
        {
          "output_type": "execute_result",
          "data": {
            "text/plain": [
              "<matplotlib.axes._subplots.AxesSubplot at 0x7f2a968b2390>"
            ]
          },
          "metadata": {
            "tags": []
          },
          "execution_count": 133
        },
        {
          "output_type": "display_data",
          "data": {
            "image/png": "[encoded data removed]",
            "text/plain": [
              "<Figure size 432x288 with 1 Axes>"
            ]
          },
          "metadata": {
            "tags": []
          }
        }
      ]
    },
    {
      "cell_type": "code",
      "metadata": {
        "colab": {
          "base_uri": "https://localhost:8080/",
          "height": 594
        },
        "id": "n02arJuecdK3",
        "outputId": "231fa391-c95b-4651-df61-46c2e8c20fe9"
      },
      "source": [
        "import scipy\r\n",
        "from scipy.cluster import hierarchy as hc\r\n",
        "corr = np.round(scipy.stats.spearmanr(df_wo_outlier).correlation,4)\r\n",
        "corr_condensed = hc.distance.squareform(1-corr)\r\n",
        "z = hc.linkage(corr_condensed,method='average')\r\n",
        "fig = plt.figure(figsize=(16,10))\r\n",
        "dendogram = hc.dendrogram(z,labels=df_wo_outlier.columns,orientation='left',leaf_font_size=16)\r\n",
        "plt.show()"
      ],
      "execution_count": 135,
      "outputs": [
        {
          "output_type": "display_data",
          "data": {
            "image/png": "[encoded data removed]",
            "text/plain": [
              "<Figure size 1152x720 with 1 Axes>"
            ]
          },
          "metadata": {
            "tags": []
          }
        }
      ]
    },
    {
      "cell_type": "code",
      "metadata": {
        "id": "___dWQP0dQZm"
      },
      "source": [
        "n_estimators = [int(x) for x in np.arange(start = 10, stop = 2000, step = 10)]\r\n",
        "max_features = [0.5,'auto', 'sqrt','log2']\r\n",
        "min_samples_leaf = [1, 2, 4]\r\n",
        "bootstrap = [True, False]\r\n",
        "random_grid = {'n_estimators': n_estimators,\r\n",
        "               'max_features': max_features,\r\n",
        "               'min_samples_leaf': min_samples_leaf,\r\n",
        "               'bootstrap': bootstrap}"
      ],
      "execution_count": 138,
      "outputs": []
    },
    {
      "cell_type": "code",
      "metadata": {
        "colab": {
          "base_uri": "https://localhost:8080/"
        },
        "id": "42WexfB9dUBG",
        "outputId": "a79d438c-9d6c-42a0-fb63-e29528ff73d9"
      },
      "source": [
        "from sklearn.model_selection import RandomizedSearchCV\r\n",
        "# First create the base model to tune\r\n",
        "m = RandomForestRegressor()\r\n",
        "# Fit the random search model\r\n",
        "m_random = RandomizedSearchCV(estimator = m, param_distributions = random_grid, n_iter = 100, cv = 3, verbose=2, random_state=42, n_jobs = -1)\r\n",
        "m_random.fit(X_train, y_train)\r\n",
        "m_random.best_params_"
      ],
      "execution_count": 139,
      "outputs": [
        {
          "output_type": "stream",
          "text": [
            "Fitting 3 folds for each of 100 candidates, totalling 300 fits\n"
          ],
          "name": "stdout"
        },
        {
          "output_type": "stream",
          "text": [
            "[Parallel(n_jobs=-1)]: Using backend LokyBackend with 2 concurrent workers.\n",
            "[Parallel(n_jobs=-1)]: Done  37 tasks      | elapsed:   41.2s\n",
            "[Parallel(n_jobs=-1)]: Done 158 tasks      | elapsed:  2.4min\n",
            "[Parallel(n_jobs=-1)]: Done 300 out of 300 | elapsed:  4.4min finished\n"
          ],
          "name": "stderr"
        },
        {
          "output_type": "execute_result",
          "data": {
            "text/plain": [
              "{'bootstrap': True,\n",
              " 'max_features': 0.5,\n",
              " 'min_samples_leaf': 4,\n",
              " 'n_estimators': 740}"
            ]
          },
          "metadata": {
            "tags": []
          },
          "execution_count": 139
        }
      ]
    },
    {
      "cell_type": "code",
      "metadata": {
        "id": "S1NQJ0o9J9mh"
      },
      "source": [
        "y_pred = regressor.predict(X_test)\r\n",
        "np.set_printoptions(precision=2)\r\n"
      ],
      "execution_count": 143,
      "outputs": []
    },
    {
      "cell_type": "code",
      "metadata": {
        "colab": {
          "base_uri": "https://localhost:8080/"
        },
        "id": "U9m15NOEKCCk",
        "outputId": "c82fc530-d383-4682-863c-9408df4bb4e5"
      },
      "source": [
        "from sklearn.metrics import r2_score\r\n",
        "r2_score(y_test, y_pred)"
      ],
      "execution_count": 144,
      "outputs": [
        {
          "output_type": "execute_result",
          "data": {
            "text/plain": [
              "0.044820283934785765"
            ]
          },
          "metadata": {
            "tags": []
          },
          "execution_count": 144
        }
      ]
    },
    {
      "cell_type": "code",
      "metadata": {
        "colab": {
          "base_uri": "https://localhost:8080/"
        },
        "id": "rBu7sROTKrHu",
        "outputId": "e7cc9270-f9dc-4bb3-a63b-8ad82eae91b2"
      },
      "source": [
        "print(y_pred)"
      ],
      "execution_count": 145,
      "outputs": [
        {
          "output_type": "stream",
          "text": [
            "[3.94 3.3  3.92 3.91 3.94 3.92 3.59 3.3  3.73 3.94 3.85 4.24 4.51 3.71\n",
            " 3.9  4.08 3.38 3.86 3.57 4.2  3.59 3.97 3.62 4.2  3.71 3.87 3.61 4.35\n",
            " 3.77 3.48 3.96 4.29 3.84 3.82 3.92 4.26 3.34 4.02 3.78 3.85 3.37 3.61\n",
            " 3.4  3.72 3.53 3.29 3.77 3.78 3.75 4.14 3.28 3.49 3.86 3.72 3.31 3.96\n",
            " 4.11 3.61 3.57 3.82 3.8  3.91 4.27 3.65 3.68 3.18 4.02 3.97 3.32 3.76\n",
            " 3.76 4.21 3.37 3.67 3.77 3.78 3.6  3.65 4.55 4.15 4.17 3.89 3.37 4.37\n",
            " 4.46 3.72 4.01 3.64 4.02 3.93 4.15 3.67 3.74 4.06 3.33 3.89 3.48 4.54\n",
            " 3.47 3.63 3.91 3.92]\n"
          ],
          "name": "stdout"
        }
      ]
    },
    {
      "cell_type": "code",
      "metadata": {
        "id": "pNtp0jaYgAa2"
      },
      "source": [
        ""
      ],
      "execution_count": null,
      "outputs": []
    }
  ]
}