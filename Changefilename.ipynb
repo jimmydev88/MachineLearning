{
 "cells": [
  {
   "cell_type": "code",
   "execution_count": 1,
   "metadata": {},
   "outputs": [],
   "source": [
    "import os"
   ]
  },
  {
   "cell_type": "code",
   "execution_count": 30,
   "metadata": {},
   "outputs": [],
   "source": [
    "# Function to rename multiple files \n",
    "def batchrenamefile(header, path, target): \n",
    "  \n",
    "    for count, filename in enumerate(os.listdir(path)): \n",
    "        fileindex = \"00000\" + str(count) \n",
    "        dst = header + \"CXR_\" + urutan[-4:] + \"_\" + target + \".jpg\"\n",
    "        src = path + filename \n",
    "        dst = path + dst \n",
    "          \n",
    "        # rename() function will \n",
    "        # rename all the files \n",
    "        os.rename(src, dst) \n",
    "  "
   ]
  },
  {
   "cell_type": "code",
   "execution_count": 31,
   "metadata": {},
   "outputs": [],
   "source": [
    "path = \"D:/Learning/DataSet/ChestXRay2/MurniteguhSet/CXR_jpg/\"\n",
    "header = \"MTMH\"\n",
    "target = \"1\"\n",
    "batchrenamefile(header, path, target)"
   ]
  },
  {
   "cell_type": "code",
   "execution_count": null,
   "metadata": {},
   "outputs": [],
   "source": []
  }
 ],
 "metadata": {
  "kernelspec": {
   "display_name": "tf38",
   "language": "python",
   "name": "tf38"
  },
  "language_info": {
   "codemirror_mode": {
    "name": "ipython",
    "version": 3
   },
   "file_extension": ".py",
   "mimetype": "text/x-python",
   "name": "python",
   "nbconvert_exporter": "python",
   "pygments_lexer": "ipython3",
   "version": "3.8.5"
  }
 },
 "nbformat": 4,
 "nbformat_minor": 4
}
